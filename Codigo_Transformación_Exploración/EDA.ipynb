{
 "cells": [
  {
   "attachments": {},
   "cell_type": "markdown",
   "metadata": {},
   "source": [
    "##Proyecto Individual Nro 1\n",
    "+ Data 07- Giselle Pereira Nuñez"
   ]
  },
  {
   "attachments": {},
   "cell_type": "markdown",
   "metadata": {},
   "source": [
    "**Análisis exploratorio de los datos EDA**\n",
    "- Visualizo encabezados\n",
    "- Visualizo tipos de datos de las columnas\n",
    "- Analizo la cantidad de datos faltantes\n",
    "- Estadísticas descriptivas\n",
    "- Reviso Correlaciones\n",
    "- Valores atípicos (outliers o anomalias)"
   ]
  },
  {
   "cell_type": "code",
   "execution_count": 1,
   "metadata": {},
   "outputs": [],
   "source": [
    "#Librerias que voy a usar\n",
    "import pandas as pd\n",
    "import numpy as np\n",
    "import seaborn as sns\n",
    "import matplotlib.pyplot as plt"
   ]
  },
  {
   "cell_type": "code",
   "execution_count": null,
   "metadata": {},
   "outputs": [],
   "source": [
    "#Abro el csv mas grande(todo unido)\n",
    "todo_df= pd.read_csv (\"archivo.csv\")"
   ]
  },
  {
   "cell_type": "code",
   "execution_count": 3,
   "metadata": {},
   "outputs": [
    {
     "data": {
      "text/html": [
       "<div>\n",
       "<style scoped>\n",
       "    .dataframe tbody tr th:only-of-type {\n",
       "        vertical-align: middle;\n",
       "    }\n",
       "\n",
       "    .dataframe tbody tr th {\n",
       "        vertical-align: top;\n",
       "    }\n",
       "\n",
       "    .dataframe thead th {\n",
       "        text-align: right;\n",
       "    }\n",
       "</style>\n",
       "<table border=\"1\" class=\"dataframe\">\n",
       "  <thead>\n",
       "    <tr style=\"text-align: right;\">\n",
       "      <th></th>\n",
       "      <th>id</th>\n",
       "      <th>type</th>\n",
       "      <th>title</th>\n",
       "      <th>director</th>\n",
       "      <th>cast</th>\n",
       "      <th>country</th>\n",
       "      <th>date_added</th>\n",
       "      <th>release_year</th>\n",
       "      <th>rating</th>\n",
       "      <th>listed_in</th>\n",
       "      <th>description</th>\n",
       "      <th>duration_int</th>\n",
       "      <th>duration_type</th>\n",
       "      <th>userId</th>\n",
       "      <th>score</th>\n",
       "      <th>timestamp</th>\n",
       "      <th>movieId</th>\n",
       "      <th>plataform</th>\n",
       "    </tr>\n",
       "  </thead>\n",
       "  <tbody>\n",
       "    <tr>\n",
       "      <th>0</th>\n",
       "      <td>as1</td>\n",
       "      <td>movie</td>\n",
       "      <td>the grand seduction</td>\n",
       "      <td>don mckellar</td>\n",
       "      <td>brendan gleeson, taylor kitsch, gordon pinsent</td>\n",
       "      <td>canada</td>\n",
       "      <td>2021-03-30</td>\n",
       "      <td>2014</td>\n",
       "      <td>g</td>\n",
       "      <td>comedy, drama</td>\n",
       "      <td>a small fishing village must procure a local d...</td>\n",
       "      <td>113</td>\n",
       "      <td>min</td>\n",
       "      <td>543</td>\n",
       "      <td>5.0</td>\n",
       "      <td>2003-07-30</td>\n",
       "      <td>as1</td>\n",
       "      <td>amazon</td>\n",
       "    </tr>\n",
       "  </tbody>\n",
       "</table>\n",
       "</div>"
      ],
      "text/plain": [
       "    id   type                title      director  \\\n",
       "0  as1  movie  the grand seduction  don mckellar   \n",
       "\n",
       "                                             cast country  date_added  \\\n",
       "0  brendan gleeson, taylor kitsch, gordon pinsent  canada  2021-03-30   \n",
       "\n",
       "   release_year rating      listed_in  \\\n",
       "0          2014      g  comedy, drama   \n",
       "\n",
       "                                         description  duration_int  \\\n",
       "0  a small fishing village must procure a local d...           113   \n",
       "\n",
       "  duration_type  userId  score   timestamp movieId plataform  \n",
       "0           min     543    5.0  2003-07-30     as1    amazon  "
      ]
     },
     "execution_count": 3,
     "metadata": {},
     "output_type": "execute_result"
    }
   ],
   "source": [
    "#Visualizo encabezados de todo_df\n",
    "todo_df.head(1)"
   ]
  },
  {
   "attachments": {},
   "cell_type": "markdown",
   "metadata": {},
   "source": [
    "Visualizo tipos de datos de las columnas"
   ]
  },
  {
   "cell_type": "code",
   "execution_count": 4,
   "metadata": {},
   "outputs": [
    {
     "data": {
      "text/plain": [
       "id                object\n",
       "type              object\n",
       "title             object\n",
       "director          object\n",
       "cast              object\n",
       "country           object\n",
       "date_added        object\n",
       "release_year       int64\n",
       "rating            object\n",
       "listed_in         object\n",
       "description       object\n",
       "duration_int       int64\n",
       "duration_type     object\n",
       "userId             int64\n",
       "score            float64\n",
       "timestamp         object\n",
       "movieId           object\n",
       "plataform         object\n",
       "dtype: object"
      ]
     },
     "execution_count": 4,
     "metadata": {},
     "output_type": "execute_result"
    }
   ],
   "source": [
    "todo_df.dtypes"
   ]
  },
  {
   "attachments": {},
   "cell_type": "markdown",
   "metadata": {},
   "source": [
    "Analizo la cantidad de datos faltantes"
   ]
  },
  {
   "cell_type": "code",
   "execution_count": 5,
   "metadata": {},
   "outputs": [
    {
     "data": {
      "text/plain": [
       "id                     0\n",
       "type                   0\n",
       "title                  0\n",
       "director         3960615\n",
       "cast             2550859\n",
       "country          5510080\n",
       "date_added       4577546\n",
       "release_year           0\n",
       "rating                 0\n",
       "listed_in              0\n",
       "description         1815\n",
       "duration_int           0\n",
       "duration_type     231117\n",
       "userId                 0\n",
       "score                  0\n",
       "timestamp              0\n",
       "movieId                0\n",
       "plataform              0\n",
       "dtype: int64"
      ]
     },
     "execution_count": 5,
     "metadata": {},
     "output_type": "execute_result"
    }
   ],
   "source": [
    "#Cantidad de datos faltantes de todo_df\n",
    "todo_df.isnull().sum()\n",
    "#tengo datos faltantes"
   ]
  },
  {
   "cell_type": "code",
   "execution_count": 6,
   "metadata": {},
   "outputs": [
    {
     "name": "stdout",
     "output_type": "stream",
     "text": [
      "Porcentaje datos faltantes del df en cada columna \n",
      " id                0.0\n",
      "type              0.0\n",
      "title             0.0\n",
      "director         35.9\n",
      "cast             23.1\n",
      "country          50.0\n",
      "date_added       41.5\n",
      "release_year      0.0\n",
      "rating            0.0\n",
      "listed_in         0.0\n",
      "description       0.0\n",
      "duration_int      0.0\n",
      "duration_type     2.1\n",
      "userId            0.0\n",
      "score             0.0\n",
      "timestamp         0.0\n",
      "movieId           0.0\n",
      "plataform         0.0\n",
      "dtype: float64\n"
     ]
    }
   ],
   "source": [
    "#porcentaje de datos faltantes en todo_df por columna\n",
    "print(\"Porcentaje datos faltantes del df en cada columna \\n\", round(todo_df.isnull().mean() * 100, 1))\n",
    "#viendo asi que las columnas, country es la que mas faltantes tiene, luego sigue date_added, director y cast (estas tres ultimas sin tanta importancia para mi futuro ML)"
   ]
  },
  {
   "cell_type": "code",
   "execution_count": 7,
   "metadata": {},
   "outputs": [
    {
     "name": "stdout",
     "output_type": "stream",
     "text": [
      "El porcentaje de los datos faltantes en total es de: 8.5 %\n"
     ]
    }
   ],
   "source": [
    "#porcentaje de datos faltantes en total\n",
    "print(\"El porcentaje de los datos faltantes en total es de:\", round(todo_df.isnull().mean().mean() * 100, 1), \"%\")"
   ]
  },
  {
   "cell_type": "code",
   "execution_count": 8,
   "metadata": {},
   "outputs": [],
   "source": [
    "#Relleno los espacios vacios del campo country\n",
    "todo_df['country'] = todo_df['country'].fillna(\"no declarado\")"
   ]
  },
  {
   "attachments": {},
   "cell_type": "markdown",
   "metadata": {},
   "source": [
    "Estadísticas descriptivas\n",
    "- El conteo de valores sin los valores faltantes.\n",
    "- La media Indica el valor típico de la columna, útil para tener una idea general de la distribución de los datos.\n",
    "- La desviación estándar mide la variabilidad de los datos alrededor de la media. Una desviación estándar grande indica que los datos están más dispersos alrededor de la media, mientras que una desviación estándar pequeña indica que los datos están más agrupados cerca de la media.\n",
    "- El valor mínimo y el valor máximo indican los límites del rango de valores observados.\n",
    "- Los cuartiles dividen los datos en cuatro partes iguales. El primer cuartil indica el valor que es mayor que el 25% de los valores en la columna. El segundo cuartil indica el valor que es mayor que el 50% de los valores en la columna. El tercer cuartil indica el valor que es mayor que el 75% de los valores en la columna. "
   ]
  },
  {
   "cell_type": "code",
   "execution_count": 9,
   "metadata": {},
   "outputs": [
    {
     "data": {
      "text/html": [
       "<div>\n",
       "<style scoped>\n",
       "    .dataframe tbody tr th:only-of-type {\n",
       "        vertical-align: middle;\n",
       "    }\n",
       "\n",
       "    .dataframe tbody tr th {\n",
       "        vertical-align: top;\n",
       "    }\n",
       "\n",
       "    .dataframe thead th {\n",
       "        text-align: right;\n",
       "    }\n",
       "</style>\n",
       "<table border=\"1\" class=\"dataframe\">\n",
       "  <thead>\n",
       "    <tr style=\"text-align: right;\">\n",
       "      <th></th>\n",
       "      <th>release_year</th>\n",
       "      <th>duration_int</th>\n",
       "      <th>userId</th>\n",
       "      <th>score</th>\n",
       "    </tr>\n",
       "  </thead>\n",
       "  <tbody>\n",
       "    <tr>\n",
       "      <th>count</th>\n",
       "      <td>1.102429e+07</td>\n",
       "      <td>1.102429e+07</td>\n",
       "      <td>1.102429e+07</td>\n",
       "      <td>1.102429e+07</td>\n",
       "    </tr>\n",
       "    <tr>\n",
       "      <th>mean</th>\n",
       "      <td>2.010819e+03</td>\n",
       "      <td>6.569939e+01</td>\n",
       "      <td>8.997251e+04</td>\n",
       "      <td>3.533455e+00</td>\n",
       "    </tr>\n",
       "    <tr>\n",
       "      <th>std</th>\n",
       "      <td>1.538663e+01</td>\n",
       "      <td>5.175968e+01</td>\n",
       "      <td>8.686601e+04</td>\n",
       "      <td>1.059692e+00</td>\n",
       "    </tr>\n",
       "    <tr>\n",
       "      <th>min</th>\n",
       "      <td>1.920000e+03</td>\n",
       "      <td>0.000000e+00</td>\n",
       "      <td>1.000000e+00</td>\n",
       "      <td>5.000000e-01</td>\n",
       "    </tr>\n",
       "    <tr>\n",
       "      <th>25%</th>\n",
       "      <td>2.010000e+03</td>\n",
       "      <td>3.000000e+00</td>\n",
       "      <td>2.855800e+04</td>\n",
       "      <td>3.000000e+00</td>\n",
       "    </tr>\n",
       "    <tr>\n",
       "      <th>50%</th>\n",
       "      <td>2.016000e+03</td>\n",
       "      <td>8.300000e+01</td>\n",
       "      <td>5.684300e+04</td>\n",
       "      <td>3.500000e+00</td>\n",
       "    </tr>\n",
       "    <tr>\n",
       "      <th>75%</th>\n",
       "      <td>2.019000e+03</td>\n",
       "      <td>1.010000e+02</td>\n",
       "      <td>1.168670e+05</td>\n",
       "      <td>4.000000e+00</td>\n",
       "    </tr>\n",
       "    <tr>\n",
       "      <th>max</th>\n",
       "      <td>2.021000e+03</td>\n",
       "      <td>6.010000e+02</td>\n",
       "      <td>2.708960e+05</td>\n",
       "      <td>5.000000e+00</td>\n",
       "    </tr>\n",
       "  </tbody>\n",
       "</table>\n",
       "</div>"
      ],
      "text/plain": [
       "       release_year  duration_int        userId         score\n",
       "count  1.102429e+07  1.102429e+07  1.102429e+07  1.102429e+07\n",
       "mean   2.010819e+03  6.569939e+01  8.997251e+04  3.533455e+00\n",
       "std    1.538663e+01  5.175968e+01  8.686601e+04  1.059692e+00\n",
       "min    1.920000e+03  0.000000e+00  1.000000e+00  5.000000e-01\n",
       "25%    2.010000e+03  3.000000e+00  2.855800e+04  3.000000e+00\n",
       "50%    2.016000e+03  8.300000e+01  5.684300e+04  3.500000e+00\n",
       "75%    2.019000e+03  1.010000e+02  1.168670e+05  4.000000e+00\n",
       "max    2.021000e+03  6.010000e+02  2.708960e+05  5.000000e+00"
      ]
     },
     "execution_count": 9,
     "metadata": {},
     "output_type": "execute_result"
    }
   ],
   "source": [
    "todo_df.describe()"
   ]
  },
  {
   "attachments": {},
   "cell_type": "markdown",
   "metadata": {},
   "source": [
    "Reviso Correlaciones\n",
    "- Los valores de la matriz de correlación varían entre -1 y 1. Un valor de 1 indica una correlación perfecta positiva (dos variables que aumentan juntas), mientras que un valor de -1 indica una correlación perfecta negativa (dos variables que disminuyen juntas). Un valor de 0 indica que no hay correlación entre las variables."
   ]
  },
  {
   "cell_type": "code",
   "execution_count": 10,
   "metadata": {},
   "outputs": [
    {
     "name": "stderr",
     "output_type": "stream",
     "text": [
      "C:\\Users\\Jhonatan\\AppData\\Local\\Temp\\ipykernel_2244\\4066477765.py:1: FutureWarning: The default value of numeric_only in DataFrame.corr is deprecated. In a future version, it will default to False. Select only valid columns or specify the value of numeric_only to silence this warning.\n",
      "  todo_df.corr()\n"
     ]
    },
    {
     "data": {
      "text/html": [
       "<div>\n",
       "<style scoped>\n",
       "    .dataframe tbody tr th:only-of-type {\n",
       "        vertical-align: middle;\n",
       "    }\n",
       "\n",
       "    .dataframe tbody tr th {\n",
       "        vertical-align: top;\n",
       "    }\n",
       "\n",
       "    .dataframe thead th {\n",
       "        text-align: right;\n",
       "    }\n",
       "</style>\n",
       "<table border=\"1\" class=\"dataframe\">\n",
       "  <thead>\n",
       "    <tr style=\"text-align: right;\">\n",
       "      <th></th>\n",
       "      <th>release_year</th>\n",
       "      <th>duration_int</th>\n",
       "      <th>userId</th>\n",
       "      <th>score</th>\n",
       "    </tr>\n",
       "  </thead>\n",
       "  <tbody>\n",
       "    <tr>\n",
       "      <th>release_year</th>\n",
       "      <td>1.000000</td>\n",
       "      <td>-0.134076</td>\n",
       "      <td>-0.000367</td>\n",
       "      <td>0.000517</td>\n",
       "    </tr>\n",
       "    <tr>\n",
       "      <th>duration_int</th>\n",
       "      <td>-0.134076</td>\n",
       "      <td>1.000000</td>\n",
       "      <td>-0.000043</td>\n",
       "      <td>-0.000325</td>\n",
       "    </tr>\n",
       "    <tr>\n",
       "      <th>userId</th>\n",
       "      <td>-0.000367</td>\n",
       "      <td>-0.000043</td>\n",
       "      <td>1.000000</td>\n",
       "      <td>0.004608</td>\n",
       "    </tr>\n",
       "    <tr>\n",
       "      <th>score</th>\n",
       "      <td>0.000517</td>\n",
       "      <td>-0.000325</td>\n",
       "      <td>0.004608</td>\n",
       "      <td>1.000000</td>\n",
       "    </tr>\n",
       "  </tbody>\n",
       "</table>\n",
       "</div>"
      ],
      "text/plain": [
       "              release_year  duration_int    userId     score\n",
       "release_year      1.000000     -0.134076 -0.000367  0.000517\n",
       "duration_int     -0.134076      1.000000 -0.000043 -0.000325\n",
       "userId           -0.000367     -0.000043  1.000000  0.004608\n",
       "score             0.000517     -0.000325  0.004608  1.000000"
      ]
     },
     "execution_count": 10,
     "metadata": {},
     "output_type": "execute_result"
    }
   ],
   "source": [
    "todo_df.corr()"
   ]
  },
  {
   "cell_type": "code",
   "execution_count": 11,
   "metadata": {},
   "outputs": [
    {
     "name": "stderr",
     "output_type": "stream",
     "text": [
      "C:\\Users\\Jhonatan\\AppData\\Local\\Temp\\ipykernel_2244\\3348096504.py:2: FutureWarning: The default value of numeric_only in DataFrame.corr is deprecated. In a future version, it will default to False. Select only valid columns or specify the value of numeric_only to silence this warning.\n",
      "  sns.heatmap(todo_df.corr(), annot=True, cmap='coolwarm')\n"
     ]
    },
    {
     "data": {
      "text/plain": [
       "<Axes: >"
      ]
     },
     "execution_count": 11,
     "metadata": {},
     "output_type": "execute_result"
    },
    {
     "data": {
      "image/png": "[encoded data removed]",
      "text/plain": [
       "<Figure size 640x480 with 2 Axes>"
      ]
     },
     "metadata": {},
     "output_type": "display_data"
    }
   ],
   "source": [
    "#correlacion con mapa de calor\n",
    "sns.heatmap(todo_df.corr(), annot=True, cmap='coolwarm')\n",
    "#este grafico muestra que hay poca correlacion entre todos los campos numericos"
   ]
  },
  {
   "attachments": {},
   "cell_type": "markdown",
   "metadata": {},
   "source": [
    "Valores atípicos (outliers o anomalias)\n",
    "- Análisis gráfico\n",
    "- Análisis estadístico\n",
    "- Eliminación"
   ]
  },
  {
   "cell_type": "code",
   "execution_count": 12,
   "metadata": {},
   "outputs": [
    {
     "data": {
      "text/plain": [
       "(11024289, 18)"
      ]
     },
     "execution_count": 12,
     "metadata": {},
     "output_type": "execute_result"
    }
   ],
   "source": [
    "#veo el tamaño\n",
    "todo_df.shape"
   ]
  },
  {
   "cell_type": "code",
   "execution_count": 13,
   "metadata": {},
   "outputs": [
    {
     "data": {
      "image/png": "[encoded data removed]",
      "text/plain": [
       "<Figure size 1000x800 with 4 Axes>"
      ]
     },
     "metadata": {},
     "output_type": "display_data"
    }
   ],
   "source": [
    "# visualización de distribuciones\n",
    "todo_df.hist(bins=20, figsize=(10,8))\n",
    "plt.show()\n",
    "# se visualiza en este grafico que el campo userid predomina en el df"
   ]
  },
  {
   "cell_type": "code",
   "execution_count": 14,
   "metadata": {},
   "outputs": [
    {
     "data": {
      "image/png": "[encoded data removed]",
      "text/plain": [
       "<Figure size 640x480 with 1 Axes>"
      ]
     },
     "metadata": {},
     "output_type": "display_data"
    }
   ],
   "source": [
    "# identificación de valores atípicos\n",
    "sns.boxplot(data=todo_df)\n",
    "plt.show()\n",
    "#este grafico se ve poco claro ya que el campo userid es el que predomina"
   ]
  },
  {
   "cell_type": "code",
   "execution_count": 15,
   "metadata": {},
   "outputs": [
    {
     "data": {
      "text/plain": [
       "<Axes: xlabel='duration_int'>"
      ]
     },
     "execution_count": 15,
     "metadata": {},
     "output_type": "execute_result"
    },
    {
     "data": {
      "image/png": "[encoded data removed]",
      "text/plain": [
       "<Figure size 640x480 with 1 Axes>"
      ]
     },
     "metadata": {},
     "output_type": "display_data"
    }
   ],
   "source": [
    "#Grafico un diagrama de cajas para identificar si la columna duration_int tiene valores atipicos\n",
    "sns.boxplot(x=\"duration_int\", data=todo_df)\n",
    "#los datos atipicos que se muestran en el grafico, no estan mal ya que es correcto que algunas peliculas durab hasta 10hs"
   ]
  },
  {
   "cell_type": "code",
   "execution_count": 16,
   "metadata": {},
   "outputs": [
    {
     "data": {
      "text/plain": [
       "<Axes: xlabel='release_year'>"
      ]
     },
     "execution_count": 16,
     "metadata": {},
     "output_type": "execute_result"
    },
    {
     "data": {
      "image/png": "[encoded data removed]",
      "text/plain": [
       "<Figure size 640x480 with 1 Axes>"
      ]
     },
     "metadata": {},
     "output_type": "display_data"
    }
   ],
   "source": [
    "#Grafico un diagrama de cajas para identificar si la columna release_year tiene valores atipicos\n",
    "sns.boxplot(x=\"release_year\", data=todo_df)\n",
    "#el grafico muestra que hay valores atripicos pero estas tambien esta correctamente ya que estas peliculas fueron lanzadas en ese año"
   ]
  }
 ],
 "metadata": {
  "kernelspec": {
   "display_name": "Python 3",
   "language": "python",
   "name": "python3"
  },
  "language_info": {
   "codemirror_mode": {
    "name": "ipython",
    "version": 3
   },
   "file_extension": ".py",
   "mimetype": "text/x-python",
   "name": "python",
   "nbconvert_exporter": "python",
   "pygments_lexer": "ipython3",
   "version": "3.9.6"
  },
  "orig_nbformat": 4,
  "vscode": {
   "interpreter": {
    "hash": "7f6d790ffd8396f9ab0a32d8d0f2cf4e4e45854916d480d0a0baf3c03b7f225e"
   }
  }
 },
 "nbformat": 4,
 "nbformat_minor": 2
}
