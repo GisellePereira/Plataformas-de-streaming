{
 "cells": [
  {
   "attachments": {},
   "cell_type": "markdown",
   "metadata": {},
   "source": [
    "##Proyecto Individual Nro 1\n",
    "+ Data 07- Giselle Pereira Nuñez"
   ]
  },
  {
   "attachments": {},
   "cell_type": "markdown",
   "metadata": {},
   "source": [
    "Consultas Propuestas:\n",
    "\n",
    "1)Película con mayor duración con filtros opcionales de AÑO, PLATAFORMA Y TIPO DE DURACIÓN. (la función debe llamarse get_max_duration(year, platform, duration_type))\n",
    "\n",
    "2)Cantidad de películas por plataforma con un puntaje mayor a XX en determinado año (la función debe llamarse get_score_count(platform, scored, year))\n",
    "\n",
    "3)Cantidad de películas por plataforma con filtro de PLATAFORMA. (La función debe llamarse get_count_platform(platform))\n",
    "\n",
    "4)Actor que más se repite según plataforma y año. (La función debe llamarse get_actor(platform, year))\n",
    "\n"
   ]
  },
  {
   "cell_type": "code",
   "execution_count": 2,
   "metadata": {},
   "outputs": [],
   "source": [
    "# Librerias utilizadas\n",
    "import pandas as pd\n",
    "import numpy as np"
   ]
  },
  {
   "cell_type": "code",
   "execution_count": 3,
   "metadata": {},
   "outputs": [],
   "source": [
    "# Archivo a trabajar\n",
    "Proveedores_Resenias= pd.read_parquet(\"archivo.parquet\")"
   ]
  },
  {
   "cell_type": "code",
   "execution_count": 7,
   "metadata": {},
   "outputs": [
    {
     "data": {
      "text/html": [
       "<div>\n",
       "<style scoped>\n",
       "    .dataframe tbody tr th:only-of-type {\n",
       "        vertical-align: middle;\n",
       "    }\n",
       "\n",
       "    .dataframe tbody tr th {\n",
       "        vertical-align: top;\n",
       "    }\n",
       "\n",
       "    .dataframe thead th {\n",
       "        text-align: right;\n",
       "    }\n",
       "</style>\n",
       "<table border=\"1\" class=\"dataframe\">\n",
       "  <thead>\n",
       "    <tr style=\"text-align: right;\">\n",
       "      <th></th>\n",
       "      <th>id</th>\n",
       "      <th>title</th>\n",
       "      <th>cast</th>\n",
       "      <th>release_year</th>\n",
       "      <th>duration_int</th>\n",
       "      <th>duration_type</th>\n",
       "      <th>plataform</th>\n",
       "      <th>score_y</th>\n",
       "    </tr>\n",
       "  </thead>\n",
       "  <tbody>\n",
       "    <tr>\n",
       "      <th>0</th>\n",
       "      <td>as1</td>\n",
       "      <td>the grand seduction</td>\n",
       "      <td>brendan gleeson, taylor kitsch, gordon pinsent</td>\n",
       "      <td>2014</td>\n",
       "      <td>113</td>\n",
       "      <td>min</td>\n",
       "      <td>amazon</td>\n",
       "      <td>3.5</td>\n",
       "    </tr>\n",
       "    <tr>\n",
       "      <th>502</th>\n",
       "      <td>as2</td>\n",
       "      <td>take care good night</td>\n",
       "      <td>mahesh manjrekar, abhay mahajan, sachin khedekar</td>\n",
       "      <td>2018</td>\n",
       "      <td>110</td>\n",
       "      <td>min</td>\n",
       "      <td>amazon</td>\n",
       "      <td>3.5</td>\n",
       "    </tr>\n",
       "    <tr>\n",
       "      <th>995</th>\n",
       "      <td>as3</td>\n",
       "      <td>secrets of deception</td>\n",
       "      <td>tom sizemore, lorenzo lamas, robert lasardo, r...</td>\n",
       "      <td>2017</td>\n",
       "      <td>74</td>\n",
       "      <td>min</td>\n",
       "      <td>amazon</td>\n",
       "      <td>3.5</td>\n",
       "    </tr>\n",
       "    <tr>\n",
       "      <th>1417</th>\n",
       "      <td>as4</td>\n",
       "      <td>pink: staying true</td>\n",
       "      <td>interviews with: pink, adele, beyoncé, britney...</td>\n",
       "      <td>2014</td>\n",
       "      <td>69</td>\n",
       "      <td>min</td>\n",
       "      <td>amazon</td>\n",
       "      <td>3.5</td>\n",
       "    </tr>\n",
       "    <tr>\n",
       "      <th>1890</th>\n",
       "      <td>as5</td>\n",
       "      <td>monster maker</td>\n",
       "      <td>harry dean stanton, kieran o'brien, george cos...</td>\n",
       "      <td>1989</td>\n",
       "      <td>45</td>\n",
       "      <td>min</td>\n",
       "      <td>amazon</td>\n",
       "      <td>3.5</td>\n",
       "    </tr>\n",
       "  </tbody>\n",
       "</table>\n",
       "</div>"
      ],
      "text/plain": [
       "       id                 title  \\\n",
       "0     as1   the grand seduction   \n",
       "502   as2  take care good night   \n",
       "995   as3  secrets of deception   \n",
       "1417  as4    pink: staying true   \n",
       "1890  as5         monster maker   \n",
       "\n",
       "                                                   cast  release_year  \\\n",
       "0        brendan gleeson, taylor kitsch, gordon pinsent          2014   \n",
       "502    mahesh manjrekar, abhay mahajan, sachin khedekar          2018   \n",
       "995   tom sizemore, lorenzo lamas, robert lasardo, r...          2017   \n",
       "1417  interviews with: pink, adele, beyoncé, britney...          2014   \n",
       "1890  harry dean stanton, kieran o'brien, george cos...          1989   \n",
       "\n",
       "      duration_int duration_type plataform  score_y  \n",
       "0              113           min    amazon      3.5  \n",
       "502            110           min    amazon      3.5  \n",
       "995             74           min    amazon      3.5  \n",
       "1417            69           min    amazon      3.5  \n",
       "1890            45           min    amazon      3.5  "
      ]
     },
     "execution_count": 7,
     "metadata": {},
     "output_type": "execute_result"
    }
   ],
   "source": [
    "Proveedores_Resenias.head()"
   ]
  },
  {
   "attachments": {},
   "cell_type": "markdown",
   "metadata": {},
   "source": [
    "1)"
   ]
  },
  {
   "cell_type": "code",
   "execution_count": 6,
   "metadata": {},
   "outputs": [
    {
     "data": {
      "text/plain": [
       "{'title': 'carmel beach waves for sleep'}"
      ]
     },
     "execution_count": 6,
     "metadata": {},
     "output_type": "execute_result"
    }
   ],
   "source": [
    "# Definir función get_max_duration\n",
    "def get_max_duration(year=None, platform=None, duration_type=None):\n",
    "    '''\n",
    "    Esta funcion recibe los parametros, year, plataform y duration_type que son opcionales\n",
    "    Devuelve el titulo de la pelicula o serie mas larga, si no recibe parametros, retorna \n",
    "    la pelicula mas larga.\n",
    "    '''\n",
    "    df = Proveedores_Resenias\n",
    "  #filtro por parametros \n",
    "    if year:\n",
    "        df = df[df['release_year'] == year]\n",
    "    \n",
    "    if platform:\n",
    "        df = df[df['plataform'] == platform]\n",
    "    \n",
    "    if duration_type:\n",
    "        if duration_type == 'min':\n",
    "            max_duration = df.sort_values(by='duration_type', ascending=True).iloc[0]['title']\n",
    "        elif duration_type == 'season':\n",
    "            max_duration = df.loc[df['duration_type'].idxmax(), 'title']\n",
    "        else:\n",
    "            return {'error': 'Invalid duration type'}\n",
    "    #Si no se coloca parametro devuelve el titulo con maxima duracion\n",
    "    else:\n",
    "        max_duration = df.loc[df['duration_int'].idxmax(), 'title']\n",
    "\n",
    "    # obtengo el título de la película con duración máxima       \n",
    "    return {'title': max_duration}\n",
    "\n",
    "#Prueba\n",
    "get_max_duration(2015, \"amazon\")"
   ]
  },
  {
   "attachments": {},
   "cell_type": "markdown",
   "metadata": {},
   "source": [
    "2)"
   ]
  },
  {
   "cell_type": "code",
   "execution_count": 8,
   "metadata": {},
   "outputs": [
    {
     "data": {
      "text/plain": [
       "573"
      ]
     },
     "execution_count": 8,
     "metadata": {},
     "output_type": "execute_result"
    }
   ],
   "source": [
    "# Creo la funcion \n",
    "def get_score_count(platform, scored, year):\n",
    "  '''\n",
    "  Esta funcion cuenta la cantidad de películas que cumplen con los criterios \n",
    "  ingresados en \"platform, scored, year\" y muestra el total.\n",
    "  '''\n",
    "  #Creo una variable\"df\" para usarla en la funcion con los datos que necesito\n",
    "  df = Proveedores_Resenias\n",
    "\n",
    "  # Selecciona las peliculas que cumplan con el criterio de los parametros\n",
    "  selec = df.loc[(df['plataform'] == platform) & (df['score_y'] >= scored) & (df['release_year'] == year)]\n",
    "\n",
    "  # Contar las peliculas y retornar el resultado\n",
    "  contar = selec['title']\n",
    "\n",
    "  # Seteo los duplicados y los cuento con len\n",
    "  contar= set(contar)\n",
    "\n",
    "  return len(contar)\n",
    "\n",
    "# Puebo \n",
    "get_score_count('netflix', 3.5, 2021)"
   ]
  },
  {
   "attachments": {},
   "cell_type": "markdown",
   "metadata": {},
   "source": [
    "3)"
   ]
  },
  {
   "cell_type": "code",
   "execution_count": 9,
   "metadata": {},
   "outputs": [
    {
     "data": {
      "text/plain": [
       "8802"
      ]
     },
     "execution_count": 9,
     "metadata": {},
     "output_type": "execute_result"
    }
   ],
   "source": [
    "def get_count_platform(platform):\n",
    "  '''\n",
    "  Esta funcion recibe el parametro plataforma, filtra y \n",
    "  setea para evitar duplicados y retorna la cantidad de películas.\n",
    "  '''\n",
    "  #Creo una variable\"df\" para usarla en la funcion con los datos que necesito\n",
    "  df = Proveedores_Resenias\n",
    "\n",
    "  # Filtro las películas a la plataforma especificada\n",
    "  peliculas_filtradas = df[df[\"plataform\"] == platform]\n",
    "  \n",
    "  # Cuento los titulos de la plataforma filtrada\n",
    "  contar = peliculas_filtradas['title']\n",
    "\n",
    "  # Seteo la cantidad de peliculas encontradas y retorno el numero total sin duplicados\n",
    "  cantidad_peliculas= set(contar)\n",
    "\n",
    "  return len(cantidad_peliculas)\n",
    "\n",
    "# Pruebo \n",
    "get_count_platform(\"netflix\")\n"
   ]
  },
  {
   "cell_type": "markdown",
   "metadata": {},
   "source": [
    "4)"
   ]
  },
  {
   "cell_type": "code",
   "execution_count": 12,
   "metadata": {},
   "outputs": [
    {
     "name": "stderr",
     "output_type": "stream",
     "text": [
      "C:\\Users\\Jhonatan\\AppData\\Local\\Temp\\ipykernel_11108\\3799243141.py:12: SettingWithCopyWarning: \n",
      "A value is trying to be set on a copy of a slice from a DataFrame\n",
      "\n",
      "See the caveats in the documentation: https://pandas.pydata.org/pandas-docs/stable/user_guide/indexing.html#returning-a-view-versus-a-copy\n",
      "  filtro['cast'].fillna(value='ningun actor', inplace = True)\n"
     ]
    },
    {
     "data": {
      "text/plain": [
       "'james franco'"
      ]
     },
     "execution_count": 12,
     "metadata": {},
     "output_type": "execute_result"
    }
   ],
   "source": [
    "def get_actor(platform, year):\n",
    "    ''''\n",
    "    Esta funcion recibe los parametros, plataforma y año, filtra y devuelve el actor mas repetido.\n",
    "    '''\n",
    "    # Creo una variable\"df\" para usarla en la funcion con los datos que necesito\n",
    "    df = Proveedores_Resenias\n",
    "\n",
    "    # Filtro por plataforma y año\n",
    "    filtro = df[(df['plataform'] == platform) & (df['release_year'] == year)]\n",
    "\n",
    "    # Reemplazo los valores nulos en la columna \"cast\" por \"nungun actor\"\n",
    "    filtro['cast'].fillna(value='ningun actor', inplace = True)\n",
    "\n",
    "    # Creo una lista de actores\n",
    "    actores = filtro['cast'].str.split(', ')\n",
    "\n",
    "    # Creo un Dataset a partir de la lista de actores\n",
    "    actores = pd.DataFrame({'actor': [actor for actors in actores for actor in actors]})\n",
    "\n",
    "    # Filtro por actores distintos a 'ningun actor'\n",
    "    actores_filtro = actores[actores['actor'] != 'ningun actor'].groupby('actor').size().reset_index(name='count')\n",
    "\n",
    "    # Ordeno de mayor a menor y obtengo el nombre del actor con más apariciones\n",
    "    actor = actores_filtro.sort_values('count', ascending=False)['actor'].iloc[0]\n",
    "\n",
    "    return actor\n",
    "\n",
    "#Pruebo\n",
    "get_actor(\"netflix\", 2015)"
   ]
  },
  {
   "attachments": {},
   "cell_type": "markdown",
   "metadata": {},
   "source": [
    "Abro el csv con el que voy a trabajar y realizo cambios a una copia para poder utulizarla en fastapi"
   ]
  },
  {
   "cell_type": "code",
   "execution_count": 14,
   "metadata": {},
   "outputs": [
    {
     "name": "stderr",
     "output_type": "stream",
     "text": [
      "C:\\Users\\Jhonatan\\AppData\\Local\\Temp\\ipykernel_7880\\3061216630.py:1: DtypeWarning: Columns (3,4,5,6) have mixed types. Specify dtype option on import or set low_memory=False.\n",
      "  Proveedores_Resenias= pd.read_csv (\"archivo.csv\")\n"
     ]
    }
   ],
   "source": [
    "Proveedores_Resenias= pd.read_csv (\"archivo.csv\")"
   ]
  },
  {
   "cell_type": "code",
   "execution_count": 15,
   "metadata": {},
   "outputs": [
    {
     "data": {
      "text/html": [
       "<div>\n",
       "<style scoped>\n",
       "    .dataframe tbody tr th:only-of-type {\n",
       "        vertical-align: middle;\n",
       "    }\n",
       "\n",
       "    .dataframe tbody tr th {\n",
       "        vertical-align: top;\n",
       "    }\n",
       "\n",
       "    .dataframe thead th {\n",
       "        text-align: right;\n",
       "    }\n",
       "</style>\n",
       "<table border=\"1\" class=\"dataframe\">\n",
       "  <thead>\n",
       "    <tr style=\"text-align: right;\">\n",
       "      <th></th>\n",
       "      <th>id</th>\n",
       "      <th>type</th>\n",
       "      <th>title</th>\n",
       "      <th>director</th>\n",
       "      <th>cast</th>\n",
       "      <th>country</th>\n",
       "      <th>date_added</th>\n",
       "      <th>release_year</th>\n",
       "      <th>rating</th>\n",
       "      <th>listed_in</th>\n",
       "      <th>description</th>\n",
       "      <th>duration_int</th>\n",
       "      <th>duration_type</th>\n",
       "      <th>userId</th>\n",
       "      <th>score</th>\n",
       "      <th>timestamp</th>\n",
       "      <th>movieId</th>\n",
       "      <th>plataform</th>\n",
       "    </tr>\n",
       "  </thead>\n",
       "  <tbody>\n",
       "    <tr>\n",
       "      <th>0</th>\n",
       "      <td>as1</td>\n",
       "      <td>movie</td>\n",
       "      <td>the grand seduction</td>\n",
       "      <td>don mckellar</td>\n",
       "      <td>brendan gleeson, taylor kitsch, gordon pinsent</td>\n",
       "      <td>canada</td>\n",
       "      <td>2021-03-30</td>\n",
       "      <td>2014</td>\n",
       "      <td>g</td>\n",
       "      <td>comedy, drama</td>\n",
       "      <td>a small fishing village must procure a local d...</td>\n",
       "      <td>113</td>\n",
       "      <td>min</td>\n",
       "      <td>543</td>\n",
       "      <td>5.0</td>\n",
       "      <td>2003-07-30</td>\n",
       "      <td>as1</td>\n",
       "      <td>amazon</td>\n",
       "    </tr>\n",
       "    <tr>\n",
       "      <th>1</th>\n",
       "      <td>as1</td>\n",
       "      <td>movie</td>\n",
       "      <td>the grand seduction</td>\n",
       "      <td>don mckellar</td>\n",
       "      <td>brendan gleeson, taylor kitsch, gordon pinsent</td>\n",
       "      <td>canada</td>\n",
       "      <td>2021-03-30</td>\n",
       "      <td>2014</td>\n",
       "      <td>g</td>\n",
       "      <td>comedy, drama</td>\n",
       "      <td>a small fishing village must procure a local d...</td>\n",
       "      <td>113</td>\n",
       "      <td>min</td>\n",
       "      <td>595</td>\n",
       "      <td>3.0</td>\n",
       "      <td>1996-08-13</td>\n",
       "      <td>as1</td>\n",
       "      <td>amazon</td>\n",
       "    </tr>\n",
       "    <tr>\n",
       "      <th>2</th>\n",
       "      <td>as1</td>\n",
       "      <td>movie</td>\n",
       "      <td>the grand seduction</td>\n",
       "      <td>don mckellar</td>\n",
       "      <td>brendan gleeson, taylor kitsch, gordon pinsent</td>\n",
       "      <td>canada</td>\n",
       "      <td>2021-03-30</td>\n",
       "      <td>2014</td>\n",
       "      <td>g</td>\n",
       "      <td>comedy, drama</td>\n",
       "      <td>a small fishing village must procure a local d...</td>\n",
       "      <td>113</td>\n",
       "      <td>min</td>\n",
       "      <td>611</td>\n",
       "      <td>3.0</td>\n",
       "      <td>2001-01-03</td>\n",
       "      <td>as1</td>\n",
       "      <td>amazon</td>\n",
       "    </tr>\n",
       "    <tr>\n",
       "      <th>3</th>\n",
       "      <td>as1</td>\n",
       "      <td>movie</td>\n",
       "      <td>the grand seduction</td>\n",
       "      <td>don mckellar</td>\n",
       "      <td>brendan gleeson, taylor kitsch, gordon pinsent</td>\n",
       "      <td>canada</td>\n",
       "      <td>2021-03-30</td>\n",
       "      <td>2014</td>\n",
       "      <td>g</td>\n",
       "      <td>comedy, drama</td>\n",
       "      <td>a small fishing village must procure a local d...</td>\n",
       "      <td>113</td>\n",
       "      <td>min</td>\n",
       "      <td>2523</td>\n",
       "      <td>3.5</td>\n",
       "      <td>2012-06-25</td>\n",
       "      <td>as1</td>\n",
       "      <td>amazon</td>\n",
       "    </tr>\n",
       "    <tr>\n",
       "      <th>4</th>\n",
       "      <td>as1</td>\n",
       "      <td>movie</td>\n",
       "      <td>the grand seduction</td>\n",
       "      <td>don mckellar</td>\n",
       "      <td>brendan gleeson, taylor kitsch, gordon pinsent</td>\n",
       "      <td>canada</td>\n",
       "      <td>2021-03-30</td>\n",
       "      <td>2014</td>\n",
       "      <td>g</td>\n",
       "      <td>comedy, drama</td>\n",
       "      <td>a small fishing village must procure a local d...</td>\n",
       "      <td>113</td>\n",
       "      <td>min</td>\n",
       "      <td>3082</td>\n",
       "      <td>4.0</td>\n",
       "      <td>2000-03-30</td>\n",
       "      <td>as1</td>\n",
       "      <td>amazon</td>\n",
       "    </tr>\n",
       "  </tbody>\n",
       "</table>\n",
       "</div>"
      ],
      "text/plain": [
       "    id   type                title      director  \\\n",
       "0  as1  movie  the grand seduction  don mckellar   \n",
       "1  as1  movie  the grand seduction  don mckellar   \n",
       "2  as1  movie  the grand seduction  don mckellar   \n",
       "3  as1  movie  the grand seduction  don mckellar   \n",
       "4  as1  movie  the grand seduction  don mckellar   \n",
       "\n",
       "                                             cast country  date_added  \\\n",
       "0  brendan gleeson, taylor kitsch, gordon pinsent  canada  2021-03-30   \n",
       "1  brendan gleeson, taylor kitsch, gordon pinsent  canada  2021-03-30   \n",
       "2  brendan gleeson, taylor kitsch, gordon pinsent  canada  2021-03-30   \n",
       "3  brendan gleeson, taylor kitsch, gordon pinsent  canada  2021-03-30   \n",
       "4  brendan gleeson, taylor kitsch, gordon pinsent  canada  2021-03-30   \n",
       "\n",
       "   release_year rating      listed_in  \\\n",
       "0          2014      g  comedy, drama   \n",
       "1          2014      g  comedy, drama   \n",
       "2          2014      g  comedy, drama   \n",
       "3          2014      g  comedy, drama   \n",
       "4          2014      g  comedy, drama   \n",
       "\n",
       "                                         description  duration_int  \\\n",
       "0  a small fishing village must procure a local d...           113   \n",
       "1  a small fishing village must procure a local d...           113   \n",
       "2  a small fishing village must procure a local d...           113   \n",
       "3  a small fishing village must procure a local d...           113   \n",
       "4  a small fishing village must procure a local d...           113   \n",
       "\n",
       "  duration_type  userId  score   timestamp movieId plataform  \n",
       "0           min     543    5.0  2003-07-30     as1    amazon  \n",
       "1           min     595    3.0  1996-08-13     as1    amazon  \n",
       "2           min     611    3.0  2001-01-03     as1    amazon  \n",
       "3           min    2523    3.5  2012-06-25     as1    amazon  \n",
       "4           min    3082    4.0  2000-03-30     as1    amazon  "
      ]
     },
     "execution_count": 15,
     "metadata": {},
     "output_type": "execute_result"
    }
   ],
   "source": [
    "Proveedores_Resenias.head()"
   ]
  },
  {
   "cell_type": "code",
   "execution_count": 4,
   "metadata": {},
   "outputs": [],
   "source": [
    "#Le realizo una copia para realizar drop a las columnas que no voy a utilizar en mi fastAPI\n",
    "archivo = Proveedores_Resenias.copy()"
   ]
  },
  {
   "cell_type": "code",
   "execution_count": 5,
   "metadata": {},
   "outputs": [],
   "source": [
    "archivo = archivo.drop(columns=['type', 'director','country','date_added','rating','listed_in','description','userId','timestamp', 'movieId'])"
   ]
  },
  {
   "cell_type": "code",
   "execution_count": 8,
   "metadata": {},
   "outputs": [],
   "source": [
    "#Elimino tambien la columna score_x porque no la voy a utilizar\n",
    "archivo1 = archivo#.drop(columns=['score_x'])"
   ]
  },
  {
   "cell_type": "code",
   "execution_count": 9,
   "metadata": {},
   "outputs": [],
   "source": [
    "#Elimino algunos duplicados\n",
    "archivo1.drop_duplicates(subset=[\"id\", \"title\", \"cast\", \"release_year\", \"plataform\"], inplace=True)"
   ]
  },
  {
   "cell_type": "code",
   "execution_count": 10,
   "metadata": {},
   "outputs": [
    {
     "data": {
      "text/html": [
       "<div>\n",
       "<style scoped>\n",
       "    .dataframe tbody tr th:only-of-type {\n",
       "        vertical-align: middle;\n",
       "    }\n",
       "\n",
       "    .dataframe tbody tr th {\n",
       "        vertical-align: top;\n",
       "    }\n",
       "\n",
       "    .dataframe thead th {\n",
       "        text-align: right;\n",
       "    }\n",
       "</style>\n",
       "<table border=\"1\" class=\"dataframe\">\n",
       "  <thead>\n",
       "    <tr style=\"text-align: right;\">\n",
       "      <th></th>\n",
       "      <th>id</th>\n",
       "      <th>title</th>\n",
       "      <th>cast</th>\n",
       "      <th>release_year</th>\n",
       "      <th>duration_int</th>\n",
       "      <th>duration_type</th>\n",
       "      <th>score</th>\n",
       "      <th>plataform</th>\n",
       "    </tr>\n",
       "  </thead>\n",
       "  <tbody>\n",
       "    <tr>\n",
       "      <th>0</th>\n",
       "      <td>as1</td>\n",
       "      <td>the grand seduction</td>\n",
       "      <td>brendan gleeson, taylor kitsch, gordon pinsent</td>\n",
       "      <td>2014</td>\n",
       "      <td>113</td>\n",
       "      <td>min</td>\n",
       "      <td>5.0</td>\n",
       "      <td>amazon</td>\n",
       "    </tr>\n",
       "  </tbody>\n",
       "</table>\n",
       "</div>"
      ],
      "text/plain": [
       "    id                title                                            cast  \\\n",
       "0  as1  the grand seduction  brendan gleeson, taylor kitsch, gordon pinsent   \n",
       "\n",
       "   release_year  duration_int duration_type  score plataform  \n",
       "0          2014           113           min    5.0    amazon  "
      ]
     },
     "execution_count": 10,
     "metadata": {},
     "output_type": "execute_result"
    }
   ],
   "source": [
    "archivo1.head(1)"
   ]
  },
  {
   "cell_type": "code",
   "execution_count": 11,
   "metadata": {},
   "outputs": [
    {
     "data": {
      "text/plain": [
       "(22998, 8)"
      ]
     },
     "execution_count": 11,
     "metadata": {},
     "output_type": "execute_result"
    }
   ],
   "source": [
    "archivo1.shape"
   ]
  },
  {
   "cell_type": "code",
   "execution_count": 12,
   "metadata": {},
   "outputs": [],
   "source": [
    "archivo1.to_parquet('archivo1.parquet')"
   ]
  }
 ],
 "metadata": {
  "kernelspec": {
   "display_name": "Python 3",
   "language": "python",
   "name": "python3"
  },
  "language_info": {
   "codemirror_mode": {
    "name": "ipython",
    "version": 3
   },
   "file_extension": ".py",
   "mimetype": "text/x-python",
   "name": "python",
   "nbconvert_exporter": "python",
   "pygments_lexer": "ipython3",
   "version": "3.9.6"
  },
  "orig_nbformat": 4,
  "vscode": {
   "interpreter": {
    "hash": "7f6d790ffd8396f9ab0a32d8d0f2cf4e4e45854916d480d0a0baf3c03b7f225e"
   }
  }
 },
 "nbformat": 4,
 "nbformat_minor": 2
}
